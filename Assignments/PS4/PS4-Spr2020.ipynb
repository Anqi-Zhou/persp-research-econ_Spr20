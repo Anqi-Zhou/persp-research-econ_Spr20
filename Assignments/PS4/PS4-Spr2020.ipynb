{
 "cells": [
  {
   "cell_type": "markdown",
   "metadata": {},
   "source": [
    "Exercise 2.1"
   ]
  },
  {
   "cell_type": "code",
   "execution_count": 61,
   "metadata": {},
   "outputs": [],
   "source": [
    "import pandas as pd\n",
    "import numpy as np\n",
    "import time\n",
    "import timeit"
   ]
  },
  {
   "cell_type": "code",
   "execution_count": 15,
   "metadata": {},
   "outputs": [],
   "source": [
    "beta = 0.96 ** 20\n",
    "delta = 1 - (1 - 0.05) ** 20\n",
    "sigma = 3\n",
    "A = 1\n",
    "alpha = 0.35\n",
    "nvec = np.array([1, 1, 0.2])"
   ]
  },
  {
   "cell_type": "code",
   "execution_count": 21,
   "metadata": {},
   "outputs": [],
   "source": [
    "def util(c, sigma):\n",
    "    return (c ** (1 - sigma) - 1) * (1 - sigma)\n",
    "\n",
    "def mu(c, sigma):\n",
    "    return c ** (-sigma)\n",
    "\n",
    "def Y(K, L, A, alpha):\n",
    "    return A * (K ** alpha) * (L ** (1 - alpha))\n",
    "\n",
    "def get_r(K, L, A, alpha, delta):\n",
    "    return alpha * A * (L / K) ** (1 - alpha) - delta\n",
    "\n",
    "def get_w(K, L, A, alpha):\n",
    "    return (1 - alpha) * A * (K / L) ** alpha\n",
    "\n",
    "def get_l(nvec):\n",
    "    return nvec.sum()\n",
    "\n",
    "def get_k(bvec):\n",
    "    return bvec.sum()"
   ]
  },
  {
   "cell_type": "code",
   "execution_count": 22,
   "metadata": {},
   "outputs": [],
   "source": [
    "def feasible(f_params, bvec_guess):\n",
    "    nvec, A, alpha, delta = f_params\n",
    "    bvec = bvec_guess\n",
    "    L = get_l(nvec)\n",
    "    K = get_k(bvec)\n",
    "    w = get_w(K, L, A, alpha)\n",
    "    r = get_r(K, L, A, alpha, delta)\n",
    "    c1 = nvec[0] * w - bvec[0]\n",
    "    c2 = nvec[1] * w + (1 + r) * bvec[0] - bvec[1]\n",
    "    c3 = nvec[2] * w + (1 + r) * bvec[1]\n",
    "    \n",
    "    K_cnstr, c_cnstr, b_cnstr = np.full(1, False), np.full(3, False), np.full(2, False)\n",
    "\n",
    "    K_cnstr[0] = K <= 0\n",
    "    c_cnstr = [(c1 <= 0), (c2 <= 0), (c3 <= 0)]\n",
    "\n",
    "    if c_cnstr[0] == True:\n",
    "        b_cnstr[0] = True\n",
    "    if c_cnstr[1] == True:\n",
    "        b_cnstr[0], b_cnstr[1] = True, True\n",
    "    if c_cnstr[2] == True:\n",
    "        b_cnstr[1] = True\n",
    "                \n",
    "    return b_cnstr, c_cnstr, K_cnstr"
   ]
  },
  {
   "cell_type": "code",
   "execution_count": 24,
   "metadata": {},
   "outputs": [
    {
     "name": "stdout",
     "output_type": "stream",
     "text": [
      "b_cnstr is [ True False]\n",
      "c_cnstr is [True, False, False]\n",
      "k_cnstr is [False]\n"
     ]
    }
   ],
   "source": [
    "#a\n",
    "b_cnstr, c_cnstr, K_cnstr = feasible(f_params, np.array([1.0, 1.2]))\n",
    "print(\"b_cnstr is\", b_cnstr)\n",
    "print(\"c_cnstr is\", c_cnstr)\n",
    "print(\"k_cnstr is\", K_cnstr)"
   ]
  },
  {
   "cell_type": "markdown",
   "metadata": {},
   "source": [
    "It shows consumption nonnegativity constraint has been violated."
   ]
  },
  {
   "cell_type": "code",
   "execution_count": 25,
   "metadata": {},
   "outputs": [
    {
     "name": "stdout",
     "output_type": "stream",
     "text": [
      "b_cnstr is [False False]\n",
      "c_cnstr is [False, False, False]\n",
      "k_cnstr is [False]\n"
     ]
    }
   ],
   "source": [
    "#b\n",
    "b_cnstr, c_cnstr, K_cnstr = feasible(f_params, np.array([0.06, -0.001]))\n",
    "print(\"b_cnstr is\", b_cnstr)\n",
    "print(\"c_cnstr is\", c_cnstr)\n",
    "print(\"k_cnstr is\", K_cnstr)"
   ]
  },
  {
   "cell_type": "markdown",
   "metadata": {},
   "source": [
    "None has been violated."
   ]
  },
  {
   "cell_type": "code",
   "execution_count": 26,
   "metadata": {},
   "outputs": [
    {
     "name": "stdout",
     "output_type": "stream",
     "text": [
      "b_cnstr is [False False]\n",
      "c_cnstr is [False, False, False]\n",
      "k_cnstr is [False]\n"
     ]
    }
   ],
   "source": [
    "#c\n",
    "b_cnstr, c_cnstr, K_cnstr = feasible(f_params, np.array([0.1, 0.1]))\n",
    "print(\"b_cnstr is\", b_cnstr)\n",
    "print(\"c_cnstr is\", c_cnstr)\n",
    "print(\"k_cnstr is\", K_cnstr)"
   ]
  },
  {
   "cell_type": "markdown",
   "metadata": {},
   "source": [
    "None has been violated."
   ]
  },
  {
   "cell_type": "markdown",
   "metadata": {},
   "source": [
    "Exercise 2.2"
   ]
  },
  {
   "cell_type": "code",
   "execution_count": 68,
   "metadata": {},
   "outputs": [],
   "source": [
    "def euler_equation(bvec, *args):\n",
    "    beta, sigma, nvec, A, alpha, delta = args\n",
    "    K = get_k(bvec)\n",
    "    L = get_l(nvec)\n",
    "    w = get_w(K, L, A, alpha)\n",
    "    r = get_r(K, L, A, alpha, delta)\n",
    "    c1 = nvec[0] * w - bvec[0]\n",
    "    c2 = nvec[1] * w + (1 + r) * bvec[0] - bvec[1]\n",
    "    c3 = nvec[2] * w + (1 + r) * bvec[1]\n",
    "    mu1 = mu(c1, sigma)\n",
    "    mu2 = mu(c2, sigma)\n",
    "    mu3 = mu(c3, sigma)\n",
    "    return np.array([mu1 - beta * (1 + r) * mu2, \n",
    "                     mu2 - beta * (1 + r) * mu3])"
   ]
  },
  {
   "cell_type": "code",
   "execution_count": 79,
   "metadata": {},
   "outputs": [],
   "source": [
    "def steady_state(params, bvec_guess, SS_graphs=True):\n",
    "    beta, sigma, nvec, A, alpha, delta, SS_tol = params\n",
    "    start_time = timeit.default_timer()\n",
    "    args = (beta, sigma, nvec, A, alpha, delta)\n",
    "    b_ss = opt.root(euler_equation, bvec_guess, tol=SS_tol, args=(args)).x\n",
    "    K_ss = get_k(b_ss)\n",
    "    L_ss = get_l(nvec)\n",
    "    w_ss = get_w(K_ss, L_ss, A, alpha)\n",
    "    r_ss = get_r(K_ss, L_ss, A, alpha, delta)\n",
    "    c1_ss = nvec[0] * w_ss - b_ss[0]\n",
    "    c2_ss = nvec[1] * w_ss + (1 + r_ss) * b_ss[0] - b_ss[1]\n",
    "    c3_ss = nvec[2] * w_ss + (1 + r_ss) * b_ss[1]\n",
    "    c_ss = np.array([c1_ss, c2_ss, c3_ss])\n",
    "    Y_ss = Y(K_ss, L_ss, A, alpha)\n",
    "    C_ss = c_ss.sum()\n",
    "    EulErr_ss = euler_equation(b_ss, *args)\n",
    "    RCerr_ss = Y_ss - C_ss - delta * K_ss      \n",
    "    ss_time = timeit.default_timer() - start_time\n",
    "    ss_output = {\n",
    "        'b_ss': b_ss, 'c_ss': c_ss, 'w_ss': w_ss, 'r_ss': r_ss, \n",
    "        'K_ss': K_ss, 'Y_ss': Y_ss, 'C_ss': C_ss, \n",
    "        'EulErr_ss': EulErr_ss, 'RCerr_ss': RCerr_ss, \n",
    "        'ss_time': ss_time \n",
    "    }\n",
    "    \n",
    "    if SS_graphs:\n",
    "        fig, ax = plt.subplots()\n",
    "        ax.plot(np.arange(1, 4), c_ss, marker=\"o\", label=\"Consumption (Steady State)\")\n",
    "        ax.plot(np.arange(2, 4), b_ss, marker=\"o\", label=\"Savings (Steady State)\")\n",
    "        ax.legend()\n",
    "        ax.set_title(\"The Steady-state Distribution of Consumption and Savings\")\n",
    "        plt.show();\n",
    "        \n",
    "    return ss_output"
   ]
  },
  {
   "cell_type": "code",
   "execution_count": 80,
   "metadata": {},
   "outputs": [
    {
     "data": {
      "image/png": "[encoded data removed]",
      "text/plain": [
       "<Figure size 432x288 with 1 Axes>"
      ]
     },
     "metadata": {
      "needs_background": "light"
     },
     "output_type": "display_data"
    },
    {
     "data": {
      "text/plain": [
       "{'b_ss': array([0.01931274, 0.05841159]),\n",
       " 'c_ss': array([0.18241256, 0.20961491, 0.24087382]),\n",
       " 'w_ss': 0.2017252935955733,\n",
       " 'r_ss': 2.4330302535646116,\n",
       " 'K_ss': 0.07772432611811347,\n",
       " 'Y_ss': 0.6827625321696328,\n",
       " 'C_ss': 0.6329012827935535,\n",
       " 'EulErr_ss': array([-1.33582034e-12,  2.67164069e-12]),\n",
       " 'RCerr_ss': 3.469446951953614e-17,\n",
       " 'ss_time': 0.0008656780000819708}"
      ]
     },
     "execution_count": 80,
     "metadata": {},
     "output_type": "execute_result"
    }
   ],
   "source": [
    "#a & b\n",
    "SS_tol = 1e-10\n",
    "params = (beta, sigma, nvec, A, alpha, delta, SS_tol)\n",
    "ss_output = steady_state(params, np.array([0.1, 0.1]), SS_graphs=True)\n",
    "ss_output"
   ]
  },
  {
   "cell_type": "markdown",
   "metadata": {},
   "source": [
    "Those values are listed as above. It takes about 0.00086 seconds to compute the steady state."
   ]
  },
  {
   "cell_type": "code",
   "execution_count": 82,
   "metadata": {},
   "outputs": [
    {
     "data": {
      "text/plain": [
       "{'b_ss': array([0.02817696, 0.07686557]),\n",
       " 'c_ss': array([0.19597535, 0.22861559, 0.26669216]),\n",
       " 'w_ss': 0.22415231191003315,\n",
       " 'r_ss': 1.8863599991452351,\n",
       " 'K_ss': 0.10504252550764615,\n",
       " 'Y_ss': 0.7586693633878046,\n",
       " 'C_ss': 0.6912831045288896,\n",
       " 'EulErr_ss': array([-2.84217094e-14, -2.84217094e-14]),\n",
       " 'RCerr_ss': 9.71445146547012e-17,\n",
       " 'ss_time': 0.0006394020001607714}"
      ]
     },
     "execution_count": 82,
     "metadata": {},
     "output_type": "execute_result"
    }
   ],
   "source": [
    "#c\n",
    "params = (0.55, sigma, nvec, A, alpha, delta, SS_tol)\n",
    "ss_output = steady_state(params, bvec_guess, False)\n",
    "ss_output"
   ]
  },
  {
   "cell_type": "markdown",
   "metadata": {},
   "source": [
    "The savings, consumptions, wages in each period, capital accumulation, outputs and total consumptions all increase, and the interest rate decreases. This makes sense a lot. Since people become more patient, they value future more. So the saving increase, thus the capital increase (investment = savings at equilibrium) and the interest rate decrease. When K increase, the marginal productivity of labor goes up, thus the wage goes up."
   ]
  },
  {
   "cell_type": "markdown",
   "metadata": {},
   "source": [
    "Exercise 2.3"
   ]
  },
  {
   "cell_type": "code",
   "execution_count": null,
   "metadata": {},
   "outputs": [],
   "source": [
    "T = 40\n",
    "m = 8\n",
    "epsilon = 1e-9\n",
    "xi = 0.1\n",
    "params = (beta, sigma, nvec, A, alpha, delta, SS_tol)\n",
    "b_ss = get_SS(params, np.array([0.1, 0.1]), SS_graphs=False)['b_ss']\n",
    "b21, b31 = (0.8 * b_ss[0], 1.1 * b_ss[1])\n",
    "K1 = get_k(np.array([b21, b31]))\n",
    "K_ss = get_k(b_ss)"
   ]
  },
  {
   "cell_type": "code",
   "execution_count": 129,
   "metadata": {},
   "outputs": [],
   "source": [
    "def euler_initial(b32, *args):\n",
    "    b21, w_path, r_path, beta, sigma, nvec = args\n",
    "    c2 = nvec[1] * w_path[0] + (1 + r_path[0]) * b21 - b32\n",
    "    c3 = nvec[2] * w_path[1] + (1 + r_path[1]) * b32\n",
    "    MU2 = mu(c2, sigma)\n",
    "    MU3 = mu(c3, sigma)\n",
    "    return MU2 - beta * (1 + r_path[1]) * MU3\n",
    "\n",
    "def euler(bvec, *args):\n",
    "    t, w_path, r_path, beta, sigma, nvec = args\n",
    "    c1 = nvec[0] * w_path[t - 1] - bvec[0]\n",
    "    c2 = nvec[1] * w_path[t] + (1 + r_path[t]) * bvec[0] - bvec[1]\n",
    "    c3 = nvec[2] * w_path[t + 1] + (1 + r_path[t + 1]) * bvec[1]\n",
    "    MU1 = mu(c1, sigma)\n",
    "    MU2 = mu(c2, sigma)\n",
    "    MU3 = mu(c3, sigma)\n",
    "    return np.array([MU1 - beta * (1 + r_path[t]) * MU2, MU2 - beta * (1 + r_path[t + 1]) * MU3])"
   ]
  },
  {
   "cell_type": "code",
   "execution_count": 130,
   "metadata": {},
   "outputs": [],
   "source": [
    "def K_path_prime_cal(T, params, bvec_guess):\n",
    "    b21, b31, K_path, L_path, beta, sigma, nvec, A, alpha, delta, SS_tol = params\n",
    "    w_path = get_w(K_path, L_path, A, alpha)\n",
    "    r_path = get_r(K_path, L_path, A, alpha, delta)\n",
    "    K_path_prime = [0] * (T - 1)\n",
    "    C_path_prime = [0] * (T - 1)\n",
    "    EulErr_path_prime_2 = [0]\n",
    "    EulErr_path_prime_3 = []\n",
    "    b2_path_prime = [b21]\n",
    "    b3_path_prime = [b31]\n",
    "    c1_path_prime = [0] * (T - 1)\n",
    "    c2_path_prime = [0] * T\n",
    "    c3_path_prime = [nvec[2] * w_path[0] + (1 + r_path[0]) * b31] + [0] * T\n",
    "    for t in range(T - 1):\n",
    "        if t == 0: \n",
    "            args = (b21, w_path, r_path, beta, sigma, nvec)\n",
    "            b32 = opt.root(euler_initial, bvec_guess[1], tol=SS_tol, args=(args)).x[0]\n",
    "            b3_path_prime.append(b32)\n",
    "            c2 = nvec[1] * w_path[0] + (1 + r_path[0]) * b21 - b32\n",
    "            c3 = nvec[2] * w_path[1] + (1 + r_path[1]) * b32\n",
    "            c2_path_prime[t] = c2\n",
    "            c3_path_prime[t + 1] = c3\n",
    "            EulErr_path_prime_3.append(abs(euler_initial(b32, *args)))\n",
    "        else: \n",
    "            args = (t, w_path, r_path, beta, sigma, nvec)\n",
    "            btp12, btp23 = opt.root(euler, bvec_guess, tol=SS_tol, args=(args)).x\n",
    "            b2_path_prime.append(btp12)\n",
    "            b3_path_prime.append(btp23)\n",
    "            K_path_prime[t - 1] = b2_path_prime[t - 1] + b3_path_prime[t - 1]\n",
    "            c1 = nvec[0] * w_path[t - 1] - btp12\n",
    "            c2 = nvec[1] * w_path[t] + (1 + r_path[t]) * btp12 - btp23\n",
    "            c3 = nvec[2] * w_path[t + 1] + (1 + r_path[t + 1]) * btp23\n",
    "            c1_path_prime[t - 1] = c1\n",
    "            c2_path_prime[t] = c2\n",
    "            c3_path_prime[t + 1] = c3\n",
    "            C_path_prime[t - 1] = c1_path_prime[t - 1] + c2_path_prime[t - 1] + c3_path_prime[t - 1]\n",
    "            EulErr_path_prime_2.append(abs(euler(np.array([btp12, btp23]), *args)[0]))\n",
    "            EulErr_path_prime_3.append(abs(euler(np.array([btp12, btp23]), *args)[1]))\n",
    "\n",
    "    Y_path_prime = Y(np.array(K_path_prime)[:T - 3], L_path[:T - 3], A, alpha)\n",
    "    RCerr_path_prime = abs(Y_path_prime - np.array(C_path_prime)[:T - 3] \n",
    "                           - np.array(K_path_prime)[1: T - 2] \n",
    "                           + (1 - delta) * np.array(K_path_prime)[:T - 3])\n",
    "    return (np.array(K_path_prime)[:T - 3], \n",
    "            np.array([max(EulErr_path_prime_2[:T - 3]), max(EulErr_path_prime_3[:T - 3])]), \n",
    "            np.array([max(RCerr_path_prime)]))"
   ]
  },
  {
   "cell_type": "code",
   "execution_count": 151,
   "metadata": {},
   "outputs": [
    {
     "name": "stdout",
     "output_type": "stream",
     "text": [
      "The distance for interation 1: 2.7058289854466913e-05.\n",
      "The distance for interation 2: 2.2498414339488714e-05.\n",
      "The distance for interation 3: 1.8792310632496185e-05.\n",
      "The distance for interation 4: 1.5766235807365667e-05.\n",
      "The distance for interation 5: 1.3283953570801483e-05.\n",
      "The distance for interation 6: 1.1238307792670742e-05.\n",
      "The distance for interation 7: 9.54474146621184e-06.\n",
      "The distance for interation 8: 8.136303149258708e-06.\n",
      "The distance for interation 9: 6.959792312425039e-06.\n",
      "The distance for interation 10: 5.9727779809689125e-06.\n",
      "The distance for interation 11: 5.141288035804328e-06.\n",
      "The distance for interation 12: 4.438014392979029e-06.\n",
      "The distance for interation 13: 3.8409156786789785e-06.\n",
      "The distance for interation 14: 3.3321267306786818e-06.\n",
      "The distance for interation 15: 2.897105382920571e-06.\n",
      "The distance for interation 16: 2.5239631129678536e-06.\n",
      "The distance for interation 17: 2.20293845253861e-06.\n",
      "The distance for interation 18: 1.9259814883567546e-06.\n",
      "The distance for interation 19: 1.6864250035122976e-06.\n",
      "The distance for interation 20: 1.478723351568579e-06.\n",
      "The distance for interation 21: 1.2982444142199064e-06.\n",
      "The distance for interation 22: 1.1411032706185235e-06.\n",
      "The distance for interation 23: 1.0040287326724619e-06.\n",
      "The distance for interation 24: 8.842558509388573e-07.\n",
      "The distance for interation 25: 7.79439004152025e-07.\n",
      "The distance for interation 26: 6.875813540045062e-07.\n",
      "The distance for interation 27: 6.069773538543548e-07.\n",
      "The distance for interation 28: 5.361657054003201e-07.\n",
      "The distance for interation 29: 4.738907069986862e-07.\n",
      "The distance for interation 30: 4.190703664688835e-07.\n",
      "The distance for interation 31: 3.707699870747642e-07.\n",
      "The distance for interation 32: 3.2818019877128284e-07.\n",
      "The distance for interation 33: 2.9059861388812407e-07.\n",
      "The distance for interation 34: 2.574144496251627e-07.\n",
      "The distance for interation 35: 2.2809558869853856e-07.\n",
      "The distance for interation 36: 2.021776516508177e-07.\n",
      "The distance for interation 37: 1.792547355294903e-07.\n",
      "The distance for interation 38: 1.589715383345037e-07.\n",
      "The distance for interation 39: 1.4101664035424113e-07.\n",
      "The distance for interation 40: 1.2511675498295307e-07.\n",
      "The distance for interation 41: 1.1103179497863272e-07.\n",
      "The distance for interation 42: 9.85506270588873e-08.\n",
      "The distance for interation 43: 8.748740955345099e-08.\n",
      "The distance for interation 44: 7.767842557497272e-08.\n",
      "The distance for interation 45: 6.897933864559718e-08.\n",
      "The distance for interation 46: 6.126280957482147e-08.\n",
      "The distance for interation 47: 5.4416423130343615e-08.\n",
      "The distance for interation 48: 4.834088108630977e-08.\n",
      "The distance for interation 49: 4.294842489520484e-08.\n",
      "The distance for interation 50: 3.816145676690629e-08.\n",
      "The distance for interation 51: 3.3911332558661446e-08.\n",
      "The distance for interation 52: 3.0137303749793903e-08.\n",
      "The distance for interation 53: 2.678558902578262e-08.\n",
      "The distance for interation 54: 2.3808558738719194e-08.\n",
      "The distance for interation 55: 2.1164017830697317e-08.\n",
      "The distance for interation 56: 1.8814574776085008e-08.\n",
      "The distance for interation 57: 1.672708577473978e-08.\n",
      "The distance for interation 58: 1.4872164859952164e-08.\n",
      "The distance for interation 59: 1.3223751810509872e-08.\n",
      "The distance for interation 60: 1.1758730808865083e-08.\n",
      "The distance for interation 61: 1.0456593692891088e-08.\n",
      "The distance for interation 62: 9.299142430175996e-09.\n",
      "The distance for interation 63: 8.2702261197125e-09.\n",
      "The distance for interation 64: 7.355508410472324e-09.\n",
      "The distance for interation 65: 6.5422617351803974e-09.\n",
      "The distance for interation 66: 5.819185198864689e-09.\n",
      "The distance for interation 67: 5.176243346780669e-09.\n",
      "The distance for interation 68: 4.604523371982566e-09.\n",
      "The distance for interation 69: 4.096108616103786e-09.\n",
      "The distance for interation 70: 3.643966473311304e-09.\n",
      "The distance for interation 71: 3.241849032174276e-09.\n",
      "The distance for interation 72: 2.884204987174516e-09.\n",
      "The distance for interation 73: 2.566101524295248e-09.\n",
      "The distance for interation 74: 2.2831550372532447e-09.\n",
      "The distance for interation 75: 2.0314696643036536e-09.\n",
      "The distance for interation 76: 1.8075827531261808e-09.\n",
      "The distance for interation 77: 1.6084164648156752e-09.\n",
      "The distance for interation 78: 1.4312348191907413e-09.\n",
      "The distance for interation 79: 1.2736055640627377e-09.\n",
      "The distance for interation 80: 1.1333663220610164e-09.\n",
      "The distance for interation 81: 1.008594531312643e-09.\n",
      "The distance for interation 82: 8.975807515424422e-10.\n",
      "It converges after 82 iterations.\n"
     ]
    }
   ],
   "source": [
    "K_path = np.linspace(K1, K_ss, T)\n",
    "K_path = np.append(K_path, np.array([K_ss] * m))\n",
    "L_path = np.ones(T + m) * L_clear(nvec)\n",
    "i = 0\n",
    "max_iter = 200\n",
    "while True:\n",
    "    params = np.array([b21, b31, K_path, L_path, beta, sigma, nvec, A, alpha, delta, SS_tol])\n",
    "    K_path_prime, max_EulErr, max_RCerr = K_path_prime_cal(T + m, params, np.array([0.1, 0.1]))\n",
    "    K_dist = ((K_path[:40] - K_path_prime[:40]) ** 2).sum()\n",
    "    print(\"The distance for interation {}: {}.\".format(i + 1, K_dist))\n",
    "    if K_dist < epsilon:\n",
    "        print(\"It converges after {} iterations.\".format(i + 1))\n",
    "        break\n",
    "    else:\n",
    "        K_path = xi * K_path_prime + (1 - xi) * K_path[:K_path_prime.shape[0]]\n",
    "        K_path = np.append(K_path, [K_ss] * (T + m - K_path_prime.shape[0]))\n",
    "        i += 1\n",
    "    if i >= max_iter:\n",
    "        print(\"It fails to converge.\")"
   ]
  },
  {
   "cell_type": "code",
   "execution_count": 153,
   "metadata": {},
   "outputs": [
    {
     "name": "stdout",
     "output_type": "stream",
     "text": [
      "Maximum of the absolute values of all the Euler errors across the entire time path is [2.27373675e-13 1.27897692e-13].\n",
      "Maximum of the absolute values of all the resource constraint errors across the entire time path is 1.1118147097421982e-09.\n"
     ]
    }
   ],
   "source": [
    "#a\n",
    "print(\"Maximum of the absolute values of all the Euler errors across the entire time path is {}.\".format(max_EulErr))\n",
    "print(\"Maximum of the absolute values of all the resource constraint errors across the entire time path is {}.\".format(max_RCerr[0]))"
   ]
  },
  {
   "cell_type": "code",
   "execution_count": 145,
   "metadata": {},
   "outputs": [
    {
     "data": {
      "image/png": "[encoded data removed]",
      "text/plain": [
       "<Figure size 432x288 with 1 Axes>"
      ]
     },
     "metadata": {
      "needs_background": "light"
     },
     "output_type": "display_data"
    }
   ],
   "source": [
    "#b\n",
    "plt.plot(range(1, T + 6), get_w(K_path_prime[: T + 5], L_path[: T + 5], A, alpha))\n",
    "plt.title(\"Wage Rate Transition Path\")\n",
    "plt.show()"
   ]
  },
  {
   "cell_type": "code",
   "execution_count": 146,
   "metadata": {},
   "outputs": [
    {
     "data": {
      "image/png": "[encoded data removed]",
      "text/plain": [
       "<Figure size 432x288 with 1 Axes>"
      ]
     },
     "metadata": {
      "needs_background": "light"
     },
     "output_type": "display_data"
    }
   ],
   "source": [
    "plt.plot(range(1, T + 6), get_r(K_path_prime[: T + 5], L_path[: T + 5], A, alpha, delta))\n",
    "plt.title(\"Interest Rate Transition Path\")\n",
    "plt.show()"
   ]
  },
  {
   "cell_type": "code",
   "execution_count": 147,
   "metadata": {},
   "outputs": [
    {
     "data": {
      "image/png": "[encoded data removed]",
      "text/plain": [
       "<Figure size 432x288 with 1 Axes>"
      ]
     },
     "metadata": {
      "needs_background": "light"
     },
     "output_type": "display_data"
    }
   ],
   "source": [
    "plt.plot(range(1, T + 6), K_path_prime[: T + 5])\n",
    "plt.title(\"Capital Transition Path\")\n",
    "plt.show();"
   ]
  },
  {
   "cell_type": "code",
   "execution_count": 149,
   "metadata": {},
   "outputs": [
    {
     "name": "stdout",
     "output_type": "stream",
     "text": [
      "It takes 2 periods to get within 0.00001.\n",
      "It is 9 periods after which the aggerate capital stock is never again further than 0.00001.\n"
     ]
    }
   ],
   "source": [
    "#c\n",
    "K_div = abs(K_path_prime - np.array([K_ss] * K_path_prime.shape[0]))\n",
    "loc1 = np.where(K_div < 1e-5)[0]\n",
    "print(\"It takes {} periods to get within 0.00001.\".format(loc1.min()))\n",
    "for i in range(len(K_path_prime)):\n",
    "    if K_div[i] <= 1e-5:\n",
    "        mark_allinrange = 1\n",
    "        for j in range(i + 1, len(K_path_prime)):\n",
    "            if K_div[j] > 1e-5:\n",
    "                mark_allinrange = 0\n",
    "                break\n",
    "        if mark_allinrange:\n",
    "            print(\"It is {} periods after which the aggerate capital stock is never again further than 0.00001.\".format(i))\n",
    "            break"
   ]
  },
  {
   "cell_type": "code",
   "execution_count": null,
   "metadata": {},
   "outputs": [],
   "source": []
  }
 ],
 "metadata": {
  "kernelspec": {
   "display_name": "Python 3",
   "language": "python",
   "name": "python3"
  },
  "language_info": {
   "codemirror_mode": {
    "name": "ipython",
    "version": 3
   },
   "file_extension": ".py",
   "mimetype": "text/x-python",
   "name": "python",
   "nbconvert_exporter": "python",
   "pygments_lexer": "ipython3",
   "version": "3.7.4"
  }
 },
 "nbformat": 4,
 "nbformat_minor": 2
}
